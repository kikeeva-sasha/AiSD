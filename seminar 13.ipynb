{
 "cells": [
  {
   "cell_type": "code",
   "execution_count": 4,
   "id": "c5591b10",
   "metadata": {},
   "outputs": [
    {
     "name": "stdout",
     "output_type": "stream",
     "text": [
      "25\n",
      "25\n",
      "6\n"
     ]
    }
   ],
   "source": [
    "#1) Реализовать простейший динамический массив, поддерживающий добавление элемента в конец массива при помощи метода append(e).\n",
    "#Также должны поддерживаться следующие операции:извлечение элемента по индексу;устанавка нового значения по индексу;\n",
    "#получение текущей длины массива.\n",
    "class DynamicArray:\n",
    "    def __init__(self):\n",
    "        self.array=[]\n",
    "    def append(self,el):\n",
    "        self.array.append(el)\n",
    "    def getel(self,i):\n",
    "        if i<len(self.array):\n",
    "            return self.array[i]\n",
    "        else:\n",
    "            return None\n",
    "    def setel(seld,i,v):\n",
    "        if i<len(self.array):\n",
    "            self.array[i]=v\n",
    "    def length(self):\n",
    "        return len(self.array)\n",
    "\n",
    "print(dynamic_array.get_element(1))  # Извлечение элемента по индексу\n",
    "dynamic_array.set_element(1, 25)     # Установка нового значения по индексу\n",
    "print(dynamic_array.get_element(1))  # Проверка нового значения\n",
    "print(dynamic_array.get_length())    # Получение текущей длины массива\n"
   ]
  },
  {
   "cell_type": "code",
   "execution_count": 16,
   "id": "4121bfce",
   "metadata": {},
   "outputs": [
    {
     "name": "stdout",
     "output_type": "stream",
     "text": [
      "[10, 20, 30]\n",
      "[10, 30]\n"
     ]
    }
   ],
   "source": [
    "#1.1) Добавить реализацию удаления элемента из любого места массива и поддержку корректного вывода массива при помощи функции print.\n",
    "class DynamicArray:\n",
    "    def __init__(self):\n",
    "        self.array=[]\n",
    "    def append(self,el):\n",
    "        self.array.append(el)\n",
    "    def getel(self,i):\n",
    "        if i<len(self.array):\n",
    "            return self.array[i]\n",
    "        else:\n",
    "            return None\n",
    "    def setel(self,i,v):\n",
    "        if i<len(self.array):\n",
    "            self.array[i]=v\n",
    "    def deli(self,i):\n",
    "        if i<len(self.array):\n",
    "            del self.array[i]\n",
    "    def length(self):\n",
    "        return len(self.array)\n",
    "    \n",
    "    def __str__(self):\n",
    "        return str(self.array)\n",
    "dynamic_array = DynamicArray()\n",
    "dynamic_array.append(10)\n",
    "dynamic_array.append(20)\n",
    "dynamic_array.append(30)\n",
    "print(dynamic_array)  # Вывод массива\n",
    "\n",
    "dynamic_array.deli(1)  # Удаление элемента по индексу\n",
    "print(dynamic_array)\n",
    "\n"
   ]
  },
  {
   "cell_type": "code",
   "execution_count": 17,
   "id": "cc8670a4",
   "metadata": {},
   "outputs": [
    {
     "name": "stdout",
     "output_type": "stream",
     "text": [
      "3\n",
      "7\n",
      "2\n",
      "6\n",
      "1\n",
      "5\n",
      "4\n"
     ]
    }
   ],
   "source": [
    "#2) Реализовать генератор, который возвращает значение поочередно извлекаемое из конца двух очередей \n",
    "#(в качестве очереди используется deque из collections). Если очередь из которой извлекается элемент пуста - \n",
    "#генератор заканчивает работу.\n",
    "from collections import deque\n",
    "def al(d1,d2):\n",
    "    while d1 or d2:\n",
    "        if d1:\n",
    "            yield d1.pop()\n",
    "        if d2:\n",
    "            yield d2.pop()\n",
    "d1 = deque([1, 2, 3])\n",
    "d2 = deque([4, 5, 6, 7])\n",
    "\n",
    "gen = al(d1, d2)\n",
    "\n",
    "for val in gen:\n",
    "    print(val)            "
   ]
  },
  {
   "cell_type": "code",
   "execution_count": null,
   "id": "0811b8b6",
   "metadata": {},
   "outputs": [],
   "source": [
    "Конечно, давайте подробно разберем, как работает генератор `alternate_deque_values`.\n",
    "\n",
    "1. **Определение генератора:**\n",
    "   ```python\n",
    "   def alternate_deque_values(deque1, deque2):\n",
    "       while deque1 or deque2:\n",
    "           if deque1:\n",
    "               yield deque1.pop()\n",
    "           if deque2:\n",
    "               yield deque2.pop()\n",
    "   ```\n",
    "\n",
    "2. **Работа генератора:**\n",
    "   - Генератор `alternate_deque_values` принимает два `deque` объекта, `deque1` и `deque2`, в качестве параметров.\n",
    "   - Внутри цикла `while` проверяется условие `deque1 or deque2`, что означает, что генератор будет работать, пока хотя бы одна из очередей не опустеет.\n",
    "   - Внутри цикла проверяется каждая из очередей. Если очередь не пуста, то с помощью метода `pop()` извлекается и возвращается элемент из ее конца с помощью ключевого слова `yield`.\n",
    "   - Когда операция `yield` выполняется, текущее состояние генератора сохраняется, и управление возвращается в вызывающий код, который получает извлеченное значение.\n",
    "   - При следующем вызове генератор продолжит выполнение с того же места, где остановился, и продолжит извлекать элементы из очередей поочередно.\n",
    "\n",
    "3. **Пример использования:**\n",
    "   ```python\n",
    "   deque1 = deque([1, 2, 3])\n",
    "   deque2 = deque([4, 5, 6, 7])\n",
    "\n",
    "   gen = alternate_deque_values(deque1, deque2)\n",
    "\n",
    "   for val in gen:\n",
    "       print(val)\n",
    "   ```\n",
    "\n",
    "4. **Итог:**\n",
    "   - При каждой итерации цикла `for`, генератор `alternate_deque_values` извлекает элементы из очередей поочередно, начиная с конца каждой очереди.\n",
    "   - Когда одна из очередей опустеет, генератор завершит свою работу.\n",
    "   - Этот подход позволяет эффективно итерироваться по элементам из двух очередей, извлекая их поочередно с конца.\n",
    "\n",
    "Надеюсь, это объяснение помогло вам понять, как работает генератор `alternate_deque_values`. Если у вас есть дополнительные вопросы или что-то неясно, пожалуйста, дайте знать."
   ]
  },
  {
   "cell_type": "code",
   "execution_count": null,
   "id": "7848d585",
   "metadata": {},
   "outputs": [],
   "source": [
    "#3) Реализовать классы с медодом action():\n",
    "#а) Класс Pump - в методе action() извлекает очередное значение из генератора и помещает значение в очередь \n",
    "#(очередь передается в конструктор).\n",
    "#b) Класс MultiAction - при вызове метода action() n раз вызвает метод action() класса, переданного в конструкторе. \n",
    "#Число n также определяется в конструкторе.\n",
    "#c) Класс MultiPump - в методе action() извлекает очередное значение из генератора и помещает значение в одну из очередей \n",
    "#(очереди передается в конструкторе); очереди , в которые помещаются очередные значения, меняются по порядку.\n"
   ]
  },
  {
   "cell_type": "code",
   "execution_count": 25,
   "id": "970766c3",
   "metadata": {},
   "outputs": [
    {
     "name": "stdout",
     "output_type": "stream",
     "text": [
      "deque([0, 1, 2, 3, 4, 5, 6, 7, 8, 9])\n"
     ]
    }
   ],
   "source": [
    "#а) Класс Pump - в методе action() извлекает очередное значение из генератора и помещает значение в очередь \n",
    "#(очередь передается в конструктор).\n",
    "from collections import deque\n",
    "class Pump:\n",
    "    def __init__(self,q,gen):\n",
    "        self.q=q\n",
    "        self.gen=gen\n",
    "    def ac(self):\n",
    "        for v in self.gen:\n",
    "            self.q.append(v)\n",
    "q = deque()\n",
    "gen = (i for i in range(10)) \n",
    "pump = Pump(q, gen)\n",
    "pump.ac()\n",
    "print(q)       "
   ]
  },
  {
   "cell_type": "code",
   "execution_count": 35,
   "id": "5551d31c",
   "metadata": {},
   "outputs": [
    {
     "name": "stdout",
     "output_type": "stream",
     "text": [
      "deque([])\n",
      "deque([0, 1, 2, 3, 4, 5, 6, 7, 8, 9])\n"
     ]
    }
   ],
   "source": [
    "#b) Класс MultiAction - при вызове метода action() n раз вызвает метод action() класса, переданного в конструкторе. \n",
    "#Число n также определяется в конструкторе.\n",
    "from collections import deque\n",
    "class Pump:\n",
    "    def __init__(self,q,gen):\n",
    "        self.q=q\n",
    "        self.gen=gen\n",
    "    def ac(self):\n",
    "        for v in self.gen:\n",
    "            self.q.append(v)\n",
    "class MultiAction:\n",
    "    def __init__(self,n):\n",
    "        self.n=n\n",
    "    def action(self):\n",
    "        for i in range(self.n):\n",
    "            pump.ac()\n",
    "q = deque()\n",
    "gen = (i for i in range(10)) \n",
    "pump = Pump(q, gen)\n",
    "print(q)    \n",
    "ma=MultiAction(10)\n",
    "ma.action()\n",
    "print(q)"
   ]
  },
  {
   "cell_type": "code",
   "execution_count": null,
   "id": "b226daf9",
   "metadata": {},
   "outputs": [],
   "source": [
    "#b) Класс MultiAction - при вызове метода action() n раз вызвает метод action() класса, переданного в конструкторе. \n",
    "#Число n также определяется в конструкторе.\n",
    "class MultiAction:\n",
    "    def __init__(self,ob,n):\n",
    "        self.ob=ob\n",
    "        self.n=n\n",
    "    def action(self):\n",
    "        for i in range(self.n):\n",
    "            print(self.ob)\n",
    "ma=MultiAction('slovo',10)\n",
    "ma.action()"
   ]
  },
  {
   "cell_type": "code",
   "execution_count": null,
   "id": "6f4a8cf6",
   "metadata": {},
   "outputs": [],
   "source": [
    "#c) Класс MultiPump - в методе action() извлекает очередное значение из генератора и помещает значение в одну из очередей \n",
    "#(очереди передается в конструкторе); очереди , в которые помещаются очередные значения, меняются по порядку.\n"
   ]
  },
  {
   "cell_type": "code",
   "execution_count": 37,
   "id": "d4eb5e5c",
   "metadata": {},
   "outputs": [
    {
     "name": "stdout",
     "output_type": "stream",
     "text": [
      "[deque([0]), deque([1])]\n"
     ]
    }
   ],
   "source": [
    "class MultiPump:\n",
    "    def __init__(self, queues, generator):\n",
    "        self.queues = queues\n",
    "        self.generator = generator\n",
    "        self.current_queue_index = 0\n",
    "\n",
    "    def action(self):\n",
    "        if self.generator:\n",
    "            try:\n",
    "                value = next(self.generator)\n",
    "                current_queue = self.queues[self.current_queue_index]\n",
    "                current_queue.append(value)\n",
    "                self.current_queue_index = (self.current_queue_index + 1) % len(self.queues)\n",
    "            except StopIteration:\n",
    "                pass\n",
    "\n",
    "# Пример использования\n",
    "queues = [deque(), deque()]\n",
    "generator = (i for i in range(5))  # Пример генератора\n",
    "multi_pump = MultiPump(queues, generator)\n",
    "multi_pump.action()\n",
    "multi_pump.action()\n",
    "print(queues)"
   ]
  },
  {
   "cell_type": "code",
   "execution_count": null,
   "id": "60e12308",
   "metadata": {},
   "outputs": [],
   "source": []
  }
 ],
 "metadata": {
  "kernelspec": {
   "display_name": "Python 3 (ipykernel)",
   "language": "python",
   "name": "python3"
  },
  "language_info": {
   "codemirror_mode": {
    "name": "ipython",
    "version": 3
   },
   "file_extension": ".py",
   "mimetype": "text/x-python",
   "name": "python",
   "nbconvert_exporter": "python",
   "pygments_lexer": "ipython3",
   "version": "3.11.5"
  }
 },
 "nbformat": 4,
 "nbformat_minor": 5
}
