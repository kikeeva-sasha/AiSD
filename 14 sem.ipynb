{
 "cells": [
  {
   "cell_type": "code",
   "execution_count": 17,
   "id": "8773e879",
   "metadata": {},
   "outputs": [
    {
     "name": "stdout",
     "output_type": "stream",
     "text": [
      "[5, 6, 7, 8, 9, 10, 11, 12, 13, 14, 15, 16, 17, 18, 19, 20]\n",
      "[35, 34, 33, 32, 31, 30, 29, 28, 27, 26, 25, 24, 23, 22, 21, 20, 19, 18, 17, 16, 15, 14, 13, 12, 11, 10, 9, 8, 7, 6]\n",
      "[341, 943, 687, 152, 256, 795, 961, 862, 652, 642, 181, 498, 706, 834, 701]\n",
      "[0, 1, 2, 3, 4, 5, 6, 7, 8, 30, 10, 11, 12, 13, 14, 15]\n"
     ]
    }
   ],
   "source": [
    "# 10) Написать 4 функции порождения списка целых значений: отсортированного (по возрастанию и убыванию), случайного и \n",
    "#почти отсортированного по возрастанию. Каждая функция принимает длину списка в качестве аргумента.\\\n",
    "import random\n",
    "#функции порождения списка целых значений: отсортированного по возрастанию\n",
    "def povozr(s, l):\n",
    "    list=[]\n",
    "    for i in range(s, l+1):\n",
    "        list.append(i)\n",
    "    return list\n",
    "def poubuv(s, l):\n",
    "    list=[]\n",
    "    for i in range(l, s, -1):\n",
    "        list.append(i)\n",
    "    return list\n",
    "def rans(l):\n",
    "    list=[]\n",
    "    for i in range(l):\n",
    "        list.append(random.randint(1,1000))\n",
    "    return list\n",
    "#Функция для генерации почти отсортированного списка целых значений по возрастанию\n",
    "def pochti(l):\n",
    "    sortl = povozr(0,l)\n",
    "    ranind = random.randint(0, l-1)\n",
    "    ranv = random.randint(l+1, l*2)\n",
    "    sortl[ranind] = ranv\n",
    "    return sortl\n",
    "print(povozr(5, 20))\n",
    "print(poubuv(5, 35))\n",
    "print(rans(15))\n",
    "print(pochti(15))"
   ]
  },
  {
   "cell_type": "code",
   "execution_count": 19,
   "id": "ae8874b1",
   "metadata": {},
   "outputs": [],
   "source": [
    "# 11) Реализовать функцию тестирования алгоритма сортировки. Процедура принимает на вход алгоритм сортировки и алгоритм \n",
    "#порождения списка f_gen(list_len), генерирующий список заданной длины, количество повтороений теста и список длин использующихся\n",
    "#для тестирования. Для каждой длины списка функция тестирования возвращает минимальное, среднее и наибольшее количество сравнений\n",
    "#и перестановок.\n",
    "def testing(sortalg, f_gen, n, listl):\n",
    "    for l in listl:\n",
    "        sravn=[]\n",
    "        perest=[]\n",
    "        for i in range(n):\n",
    "            arr=f_gen(l)\n",
    "            sravncount=sortalg(arr)\n",
    "            perestcount=sortalg(arr)\n",
    "            sravn.append(sravncount)\n",
    "            perest.append(perestcount)\n",
    "        print('минимальное количество сравнений', min(sravn), \n",
    "             'среднее количество сравнений', max(sravn), \n",
    "             'наибольшее количество сравнений', sum(sravn)/n, \n",
    "             'минимальное количество перестановок', min(perest), \n",
    "             'среднее количество перестановок', max(perest), \n",
    "             'наибольшее количество перестановок', sum(perest)/n, )"
   ]
  },
  {
   "cell_type": "code",
   "execution_count": 23,
   "id": "6fc1c987",
   "metadata": {},
   "outputs": [
    {
     "name": "stdout",
     "output_type": "stream",
     "text": [
      "[90, 64, 34, 25, 22, 12, 11]\n"
     ]
    }
   ],
   "source": [
    "# 12) Реализовать модификацию сортировки пузырьком: \"камешек-пузырек\" - с чередующимися проходами, приводящими к \"всплытию\" \n",
    "#самого большого значения списка и \"погружению\" самого маленького значения из неотсортированной части списка.\n",
    "def bubblesort(llist):\n",
    "    for i in range(len(llist)):\n",
    "        for j in range(len(llist)-1):\n",
    "            if llist[j]<llist[j+1]:\n",
    "                llist[j], llist[j+1]=llist[j+1], llist[j]\n",
    "    return llist\n",
    "arr = [64, 34, 25, 12, 22, 11, 90]\n",
    "print(bubblesort(arr))"
   ]
  },
  {
   "cell_type": "code",
   "execution_count": 26,
   "id": "58a36543",
   "metadata": {},
   "outputs": [
    {
     "name": "stdout",
     "output_type": "stream",
     "text": [
      "[11, 12, 22, 25, 34, 64, 90]\n"
     ]
    }
   ],
   "source": [
    "def kamyshek_puzyrek(arr):\n",
    "    n = len(arr)\n",
    "    swapped = True\n",
    "\n",
    "    while swapped:\n",
    "        swapped = False\n",
    "\n",
    "        for i in range(0, n-1, 2):\n",
    "            if arr[i] > arr[i+1]:\n",
    "                arr[i], arr[i+1] = arr[i+1], arr[i]\n",
    "                swapped = True\n",
    "\n",
    "        for i in range(1, n-1, 2):\n",
    "            if arr[i] > arr[i+1]:\n",
    "                arr[i], arr[i+1] = arr[i+1], arr[i]\n",
    "                swapped = True\n",
    "\n",
    "    return arr\n",
    "arr = [64, 34, 25, 12, 22, 11, 90]\n",
    "print(kamyshek_puzyrek(arr))"
   ]
  },
  {
   "cell_type": "code",
   "execution_count": 27,
   "id": "10612812",
   "metadata": {},
   "outputs": [
    {
     "name": "stdout",
     "output_type": "stream",
     "text": [
      "Исходный список 1: [64, 34, 25, 12, 22, 11, 90]\n",
      "Результат сортировки 'пузырек': [90, 64, 34, 25, 22, 12, 11]\n",
      "Результат сортировки 'камешек-пузырек': [11, 12, 22, 25, 34, 64, 90]\n",
      "\n",
      "Исходный список 2: [1, 2, 3, 4, 5]\n",
      "Результат сортировки 'пузырек': [5, 4, 3, 2, 1]\n",
      "Результат сортировки 'камешек-пузырек': [1, 2, 3, 4, 5]\n"
     ]
    }
   ],
   "source": [
    "#14) Протестировать алгоритм \"пузырек\" и \"камешек-пузырек\" на разных типах списков.\n",
    "arr1 = [64, 34, 25, 12, 22, 11, 90]\n",
    "arr2 = [1, 2, 3, 4, 5]\n",
    "\n",
    "print(\"Исходный список 1:\", arr1)\n",
    "print(\"Результат сортировки 'пузырек':\", bubblesort(arr1.copy()))\n",
    "print(\"Результат сортировки 'камешек-пузырек':\", kamyshek_puzyrek(arr1.copy()))\n",
    "\n",
    "print(\"\\nИсходный список 2:\", arr2)\n",
    "print(\"Результат сортировки 'пузырек':\", bubblesort(arr2.copy()))\n",
    "print(\"Результат сортировки 'камешек-пузырек':\", kamyshek_puzyrek(arr2.copy()))"
   ]
  },
  {
   "cell_type": "code",
   "execution_count": 28,
   "id": "fa1fc735",
   "metadata": {},
   "outputs": [
    {
     "name": "stdout",
     "output_type": "stream",
     "text": [
      "[12, 25, 64, 11, 22, 90, 34, 87, 45, 32]\n",
      "Исходный список 1: [64, 34, 25, 12, 22, 11, 90]\n",
      "Результат сортировки выбором из подсписков: [25, 34, 64, 11, 22, 12, 90]\n",
      "\n",
      "Исходный список 2: [31, 15, 20, 10, 5, 17, 2, 8, 23]\n",
      "Результат сортировки выбором из подсписков: [15, 31, 20, 5, 10, 17, 2, 8, 23]\n"
     ]
    }
   ],
   "source": [
    "#15) Реализовать модификацию сортировки выбором на основе выбора из подсписков (описанного в лекции). Протестировать алгоритм.\n",
    "def selection_sort_sublist(arr, sublist_size):\n",
    "    for i in range(0, len(arr), sublist_size):\n",
    "        sublist = arr[i:i+sublist_size]\n",
    "        min_idx = i + sublist.index(min(sublist))\n",
    "        arr[i], arr[min_idx] = arr[min_idx], arr[i]\n",
    "    return arr\n",
    "\n",
    "# Пример использования\n",
    "arr = [64, 25, 12, 22, 11, 90, 34, 87, 45, 32]\n",
    "sublist_size = 3\n",
    "sorted_arr = selection_sort_sublist(arr, sublist_size)\n",
    "print(sorted_arr)\n",
    "arr1 = [64, 34, 25, 12, 22, 11, 90]\n",
    "arr2 = [31, 15, 20, 10, 5, 17, 2, 8, 23]\n",
    "sublist_size = 3\n",
    "\n",
    "print(\"Исходный список 1:\", arr1)\n",
    "print(\"Результат сортировки выбором из подсписков:\", selection_sort_sublist(arr1.copy(), sublist_size))\n",
    "\n",
    "print(\"\\nИсходный список 2:\", arr2)\n",
    "print(\"Результат сортировки выбором из подсписков:\", selection_sort_sublist(arr2.copy(), sublist_size))\n"
   ]
  },
  {
   "cell_type": "code",
   "execution_count": null,
   "id": "931df021",
   "metadata": {},
   "outputs": [],
   "source": []
  }
 ],
 "metadata": {
  "kernelspec": {
   "display_name": "Python 3 (ipykernel)",
   "language": "python",
   "name": "python3"
  },
  "language_info": {
   "codemirror_mode": {
    "name": "ipython",
    "version": 3
   },
   "file_extension": ".py",
   "mimetype": "text/x-python",
   "name": "python",
   "nbconvert_exporter": "python",
   "pygments_lexer": "ipython3",
   "version": "3.11.5"
  }
 },
 "nbformat": 4,
 "nbformat_minor": 5
}
