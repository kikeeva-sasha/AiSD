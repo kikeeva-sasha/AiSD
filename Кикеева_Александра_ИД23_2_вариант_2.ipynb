{
 "cells": [
  {
   "cell_type": "markdown",
   "metadata": {},
   "source": [
    "### Контрольная работа № 1.\n",
    "### Вариант 2.\n",
    "#### Студент __________________________ группа ______________________"
   ]
  },
  {
   "cell_type": "markdown",
   "metadata": {},
   "source": [
    "1. Напишите программу, которая выполняет добавление, удаление и вывод на экран элементов списка при помощи классов. \n",
    "\n",
    "Решение задачи\n",
    "\n",
    "1.\tСоздаем класс и с помощью конструктора инициализируем значения этого класса.\n",
    "2.\tСоздаем в данном классе методы для добавления, удаления и вывода на экран соответствующих значений.\n",
    "3.\tСоздаем объект данного класса.\n",
    "4.\tИспользуя созданный объект, вызываем соответствующий метод (в зависимости от выбора пользователя).\n",
    "5.\tВыводим результат на экран.\n",
    "6.\tКонец.\n",
    "\n",
    "В программе реализовать выбор с помощью меню:\n",
    "\n",
    "print(\"0. Выход\")\n",
    "\n",
    "print(\"1. Добавить\")\n",
    "\n",
    "print(\"2. Удалить\")\n",
    "\n",
    "print(\"3. Вывести на экран\")\n",
    "\n",
    "choice = int(input(\"Выберите одно из этих значений: \"))\n",
    "\n"
   ]
  },
  {
   "cell_type": "code",
   "execution_count": 24,
   "metadata": {
    "scrolled": true
   },
   "outputs": [
    {
     "name": "stdout",
     "output_type": "stream",
     "text": [
      "\n",
      "Меню:\n",
      "0. Выход\n",
      "1. Добавить элемент\n",
      "2. Удалить элемент\n",
      "3. Вывести элементы\n",
      "Выберите одно из этих значений: 0\n",
      "Программа завершена.\n"
     ]
    }
   ],
   "source": [
    "# Решение 1.\n",
    "class MyList:\n",
    "    def __init__(self):\n",
    "        self.elements = []\n",
    " \n",
    "    def add_element(self, element):\n",
    "        self.elements.append(element)\n",
    "        print(f\"Элемент '{element}' добавлен в список.\")\n",
    " \n",
    "    def remove_element(self, element):\n",
    "        if element in self.elements:\n",
    "            self.elements.remove(element)\n",
    "            print(f\"Элемент '{element}' удален из списка.\")\n",
    "        else:\n",
    "            print(f\"Элемент '{element}' не найден в списке.\")\n",
    " \n",
    "    def display_elements(self):\n",
    "        if self.elements:\n",
    "            print(\"Элементы в списке:\")\n",
    "            for element in self.elements:\n",
    "                print(element)\n",
    "        else:\n",
    "            print(\"Список пуст.\")\n",
    " \n",
    "my_list = MyList()\n",
    " \n",
    "while True:\n",
    "    print(\"\\nМеню:\")\n",
    "    print(\"0. Выход\")\n",
    "    print(\"1. Добавить элемент\")\n",
    "    print(\"2. Удалить элемент\")\n",
    "    print(\"3. Вывести элементы\")\n",
    " \n",
    "    choice = int(input(\"Выберите одно из этих значений: \"))\n",
    " \n",
    "    if choice == 0:\n",
    "        print(\"Программа завершена.\")\n",
    "        break\n",
    "    elif choice == 1:\n",
    "        element_to_add = input(\"Введите элемент для добавления: \")\n",
    "        my_list.add_element(element_to_add)\n",
    "    elif choice == 2:\n",
    "        element_to_remove = input(\"Введите элемент для удаления: \")\n",
    "        my_list.remove_element(element_to_remove)\n",
    "    elif choice == 3:\n",
    "        my_list.display_elements()\n",
    "    else:\n",
    "        print(\"Ошибка: неверный выбор. Попробуйте снова.\")"
   ]
  },
  {
   "cell_type": "markdown",
   "metadata": {},
   "source": [
    "2. Используя класс People в качестве базового, создайте класс Сотрудник (Worker), имеющий свойства:\n",
    "\n",
    "• должность (post)\n",
    "\n",
    "• зарплата (salary)\n",
    "\n",
    "методы:\n",
    "\n",
    "• __init__ – конструктор;\n",
    "\n",
    "• __str__ – аналогично методу класса Teacher из примера.\n",
    "\n",
    "Используя класс Сотрудник в качестве базового создайте класс Преподаватель (Teacher), имеющий:\n",
    "\n",
    "• закрытый атрибут дисциплины (disciplines), в котором хранятся названия дисциплин, которые ведет преподаватель;\n",
    "\n",
    "• методы __init__ и __str__;\n",
    "\n",
    "• методы добавить_дисциплину (add_dis) и удалить_дисциплину (delete_dis), которые позволяют изменять список дисциплин.\n",
    "\n",
    "Создайте список, содержащий по 2 объекта каждого класса (People, Worker, Teacher). Для этого списка:\n",
    "\n",
    "• выведите информацию о каждом человеке с помощью метода info;\n",
    "\n",
    "• выведите фамилии тех, кто моложе 30 лет;\n",
    "\n",
    "• продемонстрируйте работу со свойствами должность и зарплата и методами добавить_дисциплину и удалить_дисциплину.\n"
   ]
  },
  {
   "cell_type": "code",
   "execution_count": 25,
   "metadata": {},
   "outputs": [
    {
     "name": "stdout",
     "output_type": "stream",
     "text": [
      "Имя: Кикеева, Возраст: 25\n",
      "Имя: Плетнева, Возраст: 35\n",
      "Имя: Попов, Возраст: 28, Должность: Инженер, Зарплата: 50000\n",
      "Имя: Кочнева, Возраст: 45, Должность: Менеджер, Зарплата: 70000\n",
      "Имя: Абакирова, Возраст: 30, Должность: Преподаватель, Зарплата: 60000, Дисциплины: \n",
      "Имя: Маев, Возраст: 40, Должность: Профессор, Зарплата: 80000, Дисциплины: \n",
      "Фамилии тех, кто моложе 30 лет:\n",
      "Кикеева\n",
      "Попов\n",
      "Имя: Волкова, Возраст: 27, Должность: Преподаватель, Зарплата: 60000, Дисциплины: Физика\n"
     ]
    }
   ],
   "source": [
    "# Решение 2.\n",
    "class People:\n",
    "    def __init__(self, name, age):\n",
    "        self.name = name\n",
    "        self.age = age\n",
    "        \n",
    "    def __str__(self):\n",
    "        return f\"Имя: {self.name}, Возраст: {self.age}\"\n",
    "\n",
    "class Worker(People):\n",
    "    def __init__(self, name, age, post, salary):\n",
    "        super().__init__(name, age)\n",
    "        self.post = post\n",
    "        self.salary = salary\n",
    "        \n",
    "    def __str__(self):\n",
    "        return super().__str__() + f\", Должность: {self.post}, Зарплата: {self.salary}\"\n",
    "\n",
    "class Teacher(Worker):\n",
    "    def __init__(self, name, age, post, salary):\n",
    "        super().__init__(name, age, post, salary)\n",
    "        self.__disciplines = []\n",
    "        \n",
    "    def add_dis(self, discipline):\n",
    "        self.__disciplines.append(discipline)\n",
    "        \n",
    "    def delete_dis(self, discipline):\n",
    "        if discipline in self.__disciplines:\n",
    "            self.__disciplines.remove(discipline)\n",
    "            \n",
    "    def __str__(self):\n",
    "        return super().__str__() + f\", Дисциплины: {', '.join(self.__disciplines)}\"\n",
    "\n",
    "# Создаем список объектов\n",
    "people_list = [\n",
    "    People(\"Кикеева\", 25),\n",
    "    People(\"Плетнева\", 35),\n",
    "    Worker(\"Попов\", 28, \"Инженер\", 50000),\n",
    "    Worker(\"Кочнева\", 45, \"Менеджер\", 70000),\n",
    "    Teacher(\"Абакирова\", 30, \"Преподаватель\", 60000),\n",
    "    Teacher(\"Маев\", 40, \"Профессор\", 80000)\n",
    "]\n",
    "\n",
    "# Вывод информации о каждом человеке\n",
    "for person in people_list:\n",
    "    print(person)\n",
    "\n",
    "# Вывод фамилий тех, кто моложе 30 лет\n",
    "print(\"Фамилии тех, кто моложе 30 лет:\")\n",
    "for person in people_list:\n",
    "    if person.age < 30:\n",
    "        print(person.name)\n",
    "\n",
    "# Демонстрация работы с методами и свойствами класса Teacher\n",
    "teacher1 = Teacher(\"Волкова\", 27, \"Преподаватель\", 60000)\n",
    "teacher1.add_dis(\"Математика\")\n",
    "teacher1.add_dis(\"Физика\")\n",
    "teacher1.delete_dis(\"Математика\")\n",
    "print(teacher1)"
   ]
  },
  {
   "cell_type": "markdown",
   "metadata": {},
   "source": [
    "3.Создайте класс Заказ(Order), у которого есть свойства кодтовара(code), цена(price), количество(count) и методы _init и str.\n",
    "\n",
    "Создайте 2 класса-потомка: Опт(Opt) и Розница(Retail). В этих классах создайте методы init, str.и сумма_заказа(summa), позволяющий узнать стоимость заказа. Для опта стоимость единицы товара составляет 95% от цены, а при покупке более 500 штук – 90% цены. В розницу стоимость единицы товара составляет 100% цены. Стоимость заказа равна произведению цены на количество.\n",
    "\n",
    "Продемонстрируйте работу с классами, создав необходимые объекты и обратившись к их свойствам и методам"
   ]
  },
  {
   "cell_type": "code",
   "execution_count": 26,
   "metadata": {},
   "outputs": [
    {
     "name": "stdout",
     "output_type": "stream",
     "text": [
      "Код товара: 001, Цена: 100, Количество: 600\n",
      "Стоимость заказа опта: 54000.0\n",
      "Код товара: 002, Цена: 150, Количество: 100\n",
      "Стоимость заказа розницы: 15000\n"
     ]
    }
   ],
   "source": [
    "# Решение 3.\n",
    "class Order:\n",
    "    def __init__(self, code, price, count):\n",
    "        self.code = code\n",
    "        self.price = price\n",
    "        self.count = count\n",
    "        \n",
    "    def __str__(self):\n",
    "        return f\"Код товара: {self.code}, Цена: {self.price}, Количество: {self.count}\"\n",
    "\n",
    "class Opt(Order):\n",
    "    def __init__(self, code, price, count):\n",
    "        super().__init__(code, price, count)\n",
    "        \n",
    "    def summa(self):\n",
    "        if self.count > 500:\n",
    "            return self.price * self.count * 0.9\n",
    "        else:\n",
    "            return self.price * self.count * 0.95\n",
    "\n",
    "class Retail(Order):\n",
    "    def __init__(self, code, price, count):\n",
    "        super().__init__(code, price, count)\n",
    "        \n",
    "    def summa(self):\n",
    "        return self.price * self.count\n",
    "\n",
    "# Продемонстрируем работу с классами\n",
    "\n",
    "opt_order = Opt(\"001\", 100, 600)\n",
    "retail_order = Retail(\"002\", 150, 100)\n",
    "\n",
    "print(opt_order)\n",
    "print(f\"Стоимость заказа опта: {opt_order.summa()}\")\n",
    "\n",
    "print(retail_order)\n",
    "print(f\"Стоимость заказа розницы: {retail_order.summa()}\")\n"
   ]
  },
  {
   "cell_type": "markdown",
   "metadata": {},
   "source": [
    "4.Написать функцию-генератор my_func_2(lst), которая принимает объект, поддерживающий итерации с произвольным уровнем вложенности, и возвращает все элементы по одному."
   ]
  },
  {
   "cell_type": "code",
   "execution_count": 27,
   "metadata": {},
   "outputs": [
    {
     "name": "stdout",
     "output_type": "stream",
     "text": [
      "1\n",
      "2\n",
      "3\n",
      "4\n",
      "5\n",
      "6\n",
      "7\n",
      "8\n",
      "9\n",
      "10\n"
     ]
    }
   ],
   "source": [
    "# Решение 4.\n",
    "def my_func_2(lst):\n",
    "    if isinstance(lst, (list, tuple)):\n",
    "        for item in lst:\n",
    "            yield from my_func_2(item)\n",
    "    else:\n",
    "        yield lst\n",
    "\n",
    "# Пример использования функции-генератора\n",
    "nested_list = [1, 2, [3, 4, [5, 6]], 7, [8, [9, 10]]]\n",
    "\n",
    "for element in my_func_2(nested_list):\n",
    "    print(element)"
   ]
  },
  {
   "cell_type": "markdown",
   "metadata": {},
   "source": [
    "5.С помощью механизма map/filter/reduce (хотя бы одна из этих функций должна быть использована в решении) посчитать в тексте количество слов, состоящих не менее, чем из 3-х букв. Слова в тексте разделены пробелами. Написать реализацию в одну строку. Оформить решение в виде функции my_func_3(text), т.е. шаблон таков:\n",
    "\n",
    "строка с import, если необходимо def my_func_3(text): return # однострочная реализация задания"
   ]
  },
  {
   "cell_type": "code",
   "execution_count": 28,
   "metadata": {},
   "outputs": [
    {
     "name": "stdout",
     "output_type": "stream",
     "text": [
      "4\n"
     ]
    }
   ],
   "source": [
    "# Решение 5.\n",
    "def my_func_3(text):\n",
    "    return len(list(filter(lambda word: len(word) >= 3, text.split())))\n",
    "\n",
    "# Пример использования функции\n",
    "text = \"Python is a high-level programming language\"\n",
    "print(my_func_3(text))\n"
   ]
  },
  {
   "cell_type": "markdown",
   "metadata": {},
   "source": [
    "6. Написать декоратор с параметром my_decorator(n). Декоратор превращает функцию, возвращающую поддерживающий итерации объект (далее \"последовательность\"), в функцию-генератор. Если декорируемая функция возвращает что-то другое, а не последовательность, то декоратор должен вернуть этот результат вызова функции без изменений.\n",
    "\n",
    "Проверку объекта можно организовать при помощи условия import collections if isinstance(item, collections.Iterable)\n",
    "\n",
    "Параметром декоратора может быть целое положительное число n, тогда получившаяся функция-декоратор должна генерировать по одному значению из последовательности, повторенной n раз. Также параметр может принимать строковое значение 'inf', тогда функция-декоратор генерирует по одному значению из последовательности, повторенной бесконечное число раз (зацикливает генерирование результата).\n",
    "\n",
    "Подсказка: сначала реализовать случай со значением аргумента 'inf', а затем модифицировать для целочисленного значения аргумента."
   ]
  },
  {
   "cell_type": "code",
   "execution_count": null,
   "metadata": {},
   "outputs": [],
   "source": [
    "# Решение 6."
   ]
  }
 ],
 "metadata": {
  "kernelspec": {
   "display_name": "Python 3 (ipykernel)",
   "language": "python",
   "name": "python3"
  },
  "language_info": {
   "codemirror_mode": {
    "name": "ipython",
    "version": 3
   },
   "file_extension": ".py",
   "mimetype": "text/x-python",
   "name": "python",
   "nbconvert_exporter": "python",
   "pygments_lexer": "ipython3",
   "version": "3.10.9"
  }
 },
 "nbformat": 4,
 "nbformat_minor": 4
}
